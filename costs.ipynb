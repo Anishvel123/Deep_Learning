{
 "cells": [
  {
   "cell_type": "code",
   "execution_count": 1,
   "id": "2a220d64-1bc3-4c52-9515-532f05b1fa51",
   "metadata": {},
   "outputs": [],
   "source": [
    "import numpy as np"
   ]
  },
  {
   "cell_type": "code",
   "execution_count": 16,
   "id": "33416cf3-4659-46c1-986d-41c4ddcb3252",
   "metadata": {},
   "outputs": [],
   "source": [
    "y_predicted = np.array([1, 1, 0, 0, 1])\n",
    "y_true = np.array([0.30, 0.7, 1, 0, 0.5])"
   ]
  },
  {
   "cell_type": "code",
   "execution_count": 14,
   "id": "b7ebf293-0736-47bd-bdc5-9b883a186f1c",
   "metadata": {},
   "outputs": [],
   "source": [
    "def mae(y_predicted, y_true):\n",
    "    return np.mean(np.abs(np.subtract(y_predicted, y_true)))"
   ]
  },
  {
   "cell_type": "code",
   "execution_count": 17,
   "id": "80f7278d-fa26-415b-9821-9b6c7f76672b",
   "metadata": {
    "scrolled": true
   },
   "outputs": [
    {
     "data": {
      "text/plain": [
       "0.5"
      ]
     },
     "execution_count": 17,
     "metadata": {},
     "output_type": "execute_result"
    }
   ],
   "source": [
    "mae(y_predicted, y_true)"
   ]
  },
  {
   "cell_type": "code",
   "execution_count": 54,
   "id": "ac6415d0-96c2-4154-a398-a23038d2b179",
   "metadata": {},
   "outputs": [],
   "source": [
    "def binary_cross_entropy(y_predicted, y_true, epsilon):\n",
    "    new_y_pred = np.clip(y_predicted, epsilon, 1 - epsilon)\n",
    "    new_y_true = np.clip(y_true, epsilon, 1 - epsilon)\n",
    "    return -np.mean(new_y_true * np.log(new_y_pred) + (1 - new_y_true) * np.log(1 - new_y_pred))"
   ]
  },
  {
   "cell_type": "code",
   "execution_count": 55,
   "id": "9a5038a3-97fe-4894-84d3-28925f1d6f90",
   "metadata": {},
   "outputs": [
    {
     "data": {
      "text/plain": [
       "17.269628076684402"
      ]
     },
     "execution_count": 55,
     "metadata": {},
     "output_type": "execute_result"
    }
   ],
   "source": [
    "binary_cross_entropy(y_predicted, y_true, 1e-15)"
   ]
  }
 ],
 "metadata": {
  "kernelspec": {
   "display_name": "Python [conda env:base] *",
   "language": "python",
   "name": "conda-base-py"
  },
  "language_info": {
   "codemirror_mode": {
    "name": "ipython",
    "version": 3
   },
   "file_extension": ".py",
   "mimetype": "text/x-python",
   "name": "python",
   "nbconvert_exporter": "python",
   "pygments_lexer": "ipython3",
   "version": "3.11.11"
  }
 },
 "nbformat": 4,
 "nbformat_minor": 5
}
